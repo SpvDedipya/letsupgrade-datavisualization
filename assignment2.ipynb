{
  "nbformat": 4,
  "nbformat_minor": 0,
  "metadata": {
    "colab": {
      "name": "assignment2.ipynb",
      "provenance": []
    },
    "kernelspec": {
      "name": "python3",
      "display_name": "Python 3"
    },
    "language_info": {
      "name": "python"
    }
  },
  "cells": [
    {
      "cell_type": "code",
      "metadata": {
        "id": "9PHV2wvPoew8"
      },
      "source": [
        "import matplotlib.pyplot as plt\n",
        "import numpy as np\n",
        "import pandas as pd\n",
        "%matplotlib inline\n",
        "import seaborn as sns\n",
        "from numpy.random import randn, randint, uniform, sample"
      ],
      "execution_count": 1,
      "outputs": []
    },
    {
      "cell_type": "code",
      "metadata": {
        "colab": {
          "base_uri": "https://localhost:8080/",
          "height": 357
        },
        "id": "Sp5cKxr5onpq",
        "outputId": "598bf8cd-1a3a-4e56-f253-b5002368bd43"
      },
      "source": [
        "df=pd.DataFrame(randn(10,4),columns=[\"a\",\"b\",\"c\",\"d\"])\n",
        "df"
      ],
      "execution_count": 4,
      "outputs": [
        {
          "output_type": "execute_result",
          "data": {
            "text/html": [
              "<div>\n",
              "<style scoped>\n",
              "    .dataframe tbody tr th:only-of-type {\n",
              "        vertical-align: middle;\n",
              "    }\n",
              "\n",
              "    .dataframe tbody tr th {\n",
              "        vertical-align: top;\n",
              "    }\n",
              "\n",
              "    .dataframe thead th {\n",
              "        text-align: right;\n",
              "    }\n",
              "</style>\n",
              "<table border=\"1\" class=\"dataframe\">\n",
              "  <thead>\n",
              "    <tr style=\"text-align: right;\">\n",
              "      <th></th>\n",
              "      <th>a</th>\n",
              "      <th>b</th>\n",
              "      <th>c</th>\n",
              "      <th>d</th>\n",
              "    </tr>\n",
              "  </thead>\n",
              "  <tbody>\n",
              "    <tr>\n",
              "      <th>0</th>\n",
              "      <td>-1.026373</td>\n",
              "      <td>-0.456864</td>\n",
              "      <td>-0.017694</td>\n",
              "      <td>0.453283</td>\n",
              "    </tr>\n",
              "    <tr>\n",
              "      <th>1</th>\n",
              "      <td>0.839541</td>\n",
              "      <td>-2.210249</td>\n",
              "      <td>0.832986</td>\n",
              "      <td>-2.331848</td>\n",
              "    </tr>\n",
              "    <tr>\n",
              "      <th>2</th>\n",
              "      <td>-0.237271</td>\n",
              "      <td>0.218503</td>\n",
              "      <td>0.086553</td>\n",
              "      <td>0.979146</td>\n",
              "    </tr>\n",
              "    <tr>\n",
              "      <th>3</th>\n",
              "      <td>0.843305</td>\n",
              "      <td>0.388064</td>\n",
              "      <td>0.400139</td>\n",
              "      <td>3.061942</td>\n",
              "    </tr>\n",
              "    <tr>\n",
              "      <th>4</th>\n",
              "      <td>-0.373720</td>\n",
              "      <td>2.479769</td>\n",
              "      <td>-1.325242</td>\n",
              "      <td>-0.190567</td>\n",
              "    </tr>\n",
              "    <tr>\n",
              "      <th>5</th>\n",
              "      <td>1.294503</td>\n",
              "      <td>0.548470</td>\n",
              "      <td>1.510717</td>\n",
              "      <td>-0.045798</td>\n",
              "    </tr>\n",
              "    <tr>\n",
              "      <th>6</th>\n",
              "      <td>0.230192</td>\n",
              "      <td>1.116715</td>\n",
              "      <td>1.674114</td>\n",
              "      <td>0.605774</td>\n",
              "    </tr>\n",
              "    <tr>\n",
              "      <th>7</th>\n",
              "      <td>0.632744</td>\n",
              "      <td>0.168182</td>\n",
              "      <td>-1.079532</td>\n",
              "      <td>0.490677</td>\n",
              "    </tr>\n",
              "    <tr>\n",
              "      <th>8</th>\n",
              "      <td>0.253522</td>\n",
              "      <td>-0.707995</td>\n",
              "      <td>-1.738054</td>\n",
              "      <td>-0.367170</td>\n",
              "    </tr>\n",
              "    <tr>\n",
              "      <th>9</th>\n",
              "      <td>0.143105</td>\n",
              "      <td>-2.006724</td>\n",
              "      <td>-0.085718</td>\n",
              "      <td>0.333855</td>\n",
              "    </tr>\n",
              "  </tbody>\n",
              "</table>\n",
              "</div>"
            ],
            "text/plain": [
              "          a         b         c         d\n",
              "0 -1.026373 -0.456864 -0.017694  0.453283\n",
              "1  0.839541 -2.210249  0.832986 -2.331848\n",
              "2 -0.237271  0.218503  0.086553  0.979146\n",
              "3  0.843305  0.388064  0.400139  3.061942\n",
              "4 -0.373720  2.479769 -1.325242 -0.190567\n",
              "5  1.294503  0.548470  1.510717 -0.045798\n",
              "6  0.230192  1.116715  1.674114  0.605774\n",
              "7  0.632744  0.168182 -1.079532  0.490677\n",
              "8  0.253522 -0.707995 -1.738054 -0.367170\n",
              "9  0.143105 -2.006724 -0.085718  0.333855"
            ]
          },
          "metadata": {
            "tags": []
          },
          "execution_count": 4
        }
      ]
    },
    {
      "cell_type": "code",
      "metadata": {
        "colab": {
          "base_uri": "https://localhost:8080/",
          "height": 441
        },
        "id": "liUh_XIgpb2O",
        "outputId": "c5d61586-1da5-4a4f-fb55-19599db4d8b3"
      },
      "source": [
        "df.plot.bar(figsize=(7,7))\n",
        "plt.title(\"Bar Graph\")\n",
        "plt.show()"
      ],
      "execution_count": 7,
      "outputs": [
        {
          "output_type": "display_data",
          "data": {
            "image/png": "[encoded data removed]",
            "text/plain": [
              "<Figure size 504x504 with 1 Axes>"
            ]
          },
          "metadata": {
            "tags": [],
            "needs_background": "light"
          }
        }
      ]
    }
  ]
}